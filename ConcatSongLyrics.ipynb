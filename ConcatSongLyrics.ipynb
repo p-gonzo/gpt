{
 "cells": [
  {
   "cell_type": "code",
   "execution_count": 3,
   "id": "e37343bb",
   "metadata": {},
   "outputs": [],
   "source": [
    "import glob"
   ]
  },
  {
   "cell_type": "code",
   "execution_count": 6,
   "id": "60245d39",
   "metadata": {},
   "outputs": [],
   "source": [
    "files = (glob.glob(\"SongLyrics/*\"))"
   ]
  },
  {
   "cell_type": "code",
   "execution_count": 7,
   "id": "28662450",
   "metadata": {},
   "outputs": [
    {
     "name": "stdout",
     "output_type": "stream",
     "text": [
      "['SongLyrics/prince.txt', 'SongLyrics/dickinson.txt', 'SongLyrics/notorious-big.txt', 'SongLyrics/beatles.txt', 'SongLyrics/bob-dylan.txt', 'SongLyrics/bjork.txt', 'SongLyrics/johnny-cash.txt', 'SongLyrics/disney.txt', 'SongLyrics/janisjoplin.txt', 'SongLyrics/kanye.txt', 'SongLyrics/bob-marley.txt', 'SongLyrics/leonard-cohen.txt', 'SongLyrics/ludacris.txt', 'SongLyrics/adele.txt', 'SongLyrics/alicia-keys.txt', 'SongLyrics/joni-mitchell.txt', 'SongLyrics/amy-winehouse.txt', 'SongLyrics/lorde.txt', 'SongLyrics/rihanna.txt', 'SongLyrics/Kanye_West.txt', 'SongLyrics/nirvana.txt', 'SongLyrics/cake.txt', 'SongLyrics/bieber.txt', 'SongLyrics/notorious_big.txt', 'SongLyrics/missy-elliott.txt', 'SongLyrics/dolly-parton.txt', 'SongLyrics/jimi-hendrix.txt', 'SongLyrics/michael-jackson.txt', 'SongLyrics/al-green.txt', 'SongLyrics/lil-wayne.txt', 'SongLyrics/lady-gaga.txt', 'SongLyrics/lin-manuel-miranda.txt', 'SongLyrics/nursery_rhymes.txt', 'SongLyrics/dj-khaled.txt', 'SongLyrics/radiohead.txt', 'SongLyrics/patti-smith.txt', 'SongLyrics/blink-182.txt', 'SongLyrics/Lil_Wayne.txt', 'SongLyrics/dr-seuss.txt', 'SongLyrics/r-kelly.txt', 'SongLyrics/drake.txt', 'SongLyrics/britney-spears.txt', 'SongLyrics/bruce-springsteen.txt', 'SongLyrics/nicki-minaj.txt', 'SongLyrics/kanye-west.txt', 'SongLyrics/paul-simon.txt', 'SongLyrics/nickelback.txt', 'SongLyrics/eminem.txt', 'SongLyrics/bruno-mars.txt']\n"
     ]
    }
   ],
   "source": [
    "print(files)"
   ]
  },
  {
   "cell_type": "code",
   "execution_count": 11,
   "id": "6d3f5d52",
   "metadata": {},
   "outputs": [],
   "source": [
    "alltext = ''\n",
    "for file in files:\n",
    "    with open(file, 'r', encoding='utf-8') as f:\n",
    "        current_text = f.read()\n",
    "        alltext += f\"\\n{current_text}\""
   ]
  },
  {
   "cell_type": "code",
   "execution_count": 12,
   "id": "3d222ab6",
   "metadata": {},
   "outputs": [
    {
     "data": {
      "text/plain": [
       "6730890"
      ]
     },
     "execution_count": 12,
     "metadata": {},
     "output_type": "execute_result"
    }
   ],
   "source": [
    "len(alltext)"
   ]
  },
  {
   "cell_type": "code",
   "execution_count": 13,
   "id": "e607272c",
   "metadata": {},
   "outputs": [],
   "source": [
    "with open('allLyrics.txt', 'w') as file:\n",
    "    file.write(alltext)"
   ]
  },
  {
   "cell_type": "code",
   "execution_count": null,
   "id": "abe0cd96",
   "metadata": {},
   "outputs": [],
   "source": []
  }
 ],
 "metadata": {
  "kernelspec": {
   "display_name": "Python 3 (ipykernel)",
   "language": "python",
   "name": "python3"
  },
  "language_info": {
   "codemirror_mode": {
    "name": "ipython",
    "version": 3
   },
   "file_extension": ".py",
   "mimetype": "text/x-python",
   "name": "python",
   "nbconvert_exporter": "python",
   "pygments_lexer": "ipython3",
   "version": "3.10.9"
  }
 },
 "nbformat": 4,
 "nbformat_minor": 5
}
