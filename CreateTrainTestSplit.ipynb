{
 "cells": [
  {
   "cell_type": "code",
   "execution_count": 1,
   "id": "e37343bb",
   "metadata": {},
   "outputs": [],
   "source": [
    "import glob"
   ]
  },
  {
   "cell_type": "code",
   "execution_count": 2,
   "id": "60245d39",
   "metadata": {},
   "outputs": [],
   "source": [
    "files = (glob.glob(\"SourceData/FolkAltRock/*\"))"
   ]
  },
  {
   "cell_type": "code",
   "execution_count": 3,
   "id": "28662450",
   "metadata": {},
   "outputs": [
    {
     "name": "stdout",
     "output_type": "stream",
     "text": [
      "['SourceData/FolkAltRock/beatles.txt', 'SourceData/FolkAltRock/bob-dylan.txt', 'SourceData/FolkAltRock/johnny-cash.txt', 'SourceData/FolkAltRock/bob-marley.txt', 'SourceData/FolkAltRock/alicia-keys.txt', 'SourceData/FolkAltRock/joni-mitchell.txt', 'SourceData/FolkAltRock/cake.txt', 'SourceData/FolkAltRock/jimi-hendrix.txt', 'SourceData/FolkAltRock/al-green.txt', 'SourceData/FolkAltRock/radiohead.txt']\n"
     ]
    }
   ],
   "source": [
    "print(files)"
   ]
  },
  {
   "cell_type": "code",
   "execution_count": 4,
   "id": "6d3f5d52",
   "metadata": {},
   "outputs": [],
   "source": [
    "# Create a train/test split based on the above artists\n",
    "train = ''\n",
    "test = ''\n",
    "for file in files:\n",
    "    with open(file, 'r', encoding='utf-8') as f:\n",
    "        current_file = f.read()\n",
    "        n = int(0.9 * len(current_file))\n",
    "        train += current_file[:n]\n",
    "        test += current_file[n:]"
   ]
  },
  {
   "cell_type": "code",
   "execution_count": 5,
   "id": "3226bc97",
   "metadata": {},
   "outputs": [],
   "source": [
    "trainTest = train + '\\n' + test"
   ]
  },
  {
   "cell_type": "code",
   "execution_count": 6,
   "id": "3d222ab6",
   "metadata": {
    "scrolled": true
   },
   "outputs": [
    {
     "name": "stdout",
     "output_type": "stream",
     "text": [
      "855804\n",
      "95093\n",
      "950898\n",
      "True\n"
     ]
    }
   ],
   "source": [
    "print(len(train))\n",
    "print(len(test))\n",
    "print(len(trainTest))\n",
    "print(len(train) + len('\\n') + len(test) == len(trainTest))"
   ]
  },
  {
   "cell_type": "code",
   "execution_count": 7,
   "id": "e607272c",
   "metadata": {},
   "outputs": [],
   "source": [
    "with open('trainTestData/FolkAltRock/train.txt', 'w') as file:\n",
    "    file.write(train)"
   ]
  },
  {
   "cell_type": "code",
   "execution_count": 8,
   "id": "abe0cd96",
   "metadata": {},
   "outputs": [],
   "source": [
    "with open('trainTestData/FolkAltRock/test.txt', 'w') as file:\n",
    "    file.write(test)"
   ]
  },
  {
   "cell_type": "code",
   "execution_count": 9,
   "id": "c9159f10",
   "metadata": {},
   "outputs": [],
   "source": [
    "with open('trainTestData/FolkAltRock/trainTest.txt', 'w') as file:\n",
    "    file.write(trainTest)"
   ]
  }
 ],
 "metadata": {
  "kernelspec": {
   "display_name": "Python 3 (ipykernel)",
   "language": "python",
   "name": "python3"
  },
  "language_info": {
   "codemirror_mode": {
    "name": "ipython",
    "version": 3
   },
   "file_extension": ".py",
   "mimetype": "text/x-python",
   "name": "python",
   "nbconvert_exporter": "python",
   "pygments_lexer": "ipython3",
   "version": "3.10.9"
  }
 },
 "nbformat": 4,
 "nbformat_minor": 5
}
